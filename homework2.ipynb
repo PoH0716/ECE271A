{
 "cells": [
  {
   "cell_type": "markdown",
   "metadata": {},
   "source": [
    "# ECE271A HW2"
   ]
  },
  {
   "cell_type": "code",
   "execution_count": 1,
   "metadata": {},
   "outputs": [],
   "source": [
    "import imageio\n",
    "import numpy as np\n",
    "import matplotlib.pyplot as plt\n",
    "from scipy.io import loadmat\n",
    "from scipy.fftpack import dct"
   ]
  },
  {
   "cell_type": "code",
   "execution_count": 2,
   "metadata": {},
   "outputs": [],
   "source": [
    "train_samples = loadmat('./data/TrainingSamplesDCT_8_new.mat')"
   ]
  },
  {
   "cell_type": "code",
   "execution_count": 3,
   "metadata": {},
   "outputs": [
    {
     "name": "stdout",
     "output_type": "stream",
     "text": [
      "dict_keys(['__header__', '__version__', '__globals__', 'TrainsampleDCT_FG', 'TrainsampleDCT_BG'])\n"
     ]
    }
   ],
   "source": [
    "print(train_samples.keys())"
   ]
  },
  {
   "cell_type": "code",
   "execution_count": 4,
   "metadata": {},
   "outputs": [
    {
     "name": "stdout",
     "output_type": "stream",
     "text": [
      "(250, 64)\n",
      "(1053, 64)\n"
     ]
    }
   ],
   "source": [
    "train_samples_fg = train_samples['TrainsampleDCT_FG']\n",
    "train_samples_bg = train_samples['TrainsampleDCT_BG']\n",
    "print(train_samples_fg.shape)\n",
    "print(train_samples_bg.shape)"
   ]
  },
  {
   "cell_type": "code",
   "execution_count": 5,
   "metadata": {},
   "outputs": [
    {
     "name": "stdout",
     "output_type": "stream",
     "text": [
      "P(cheetah) = 0.1918649270913277\n",
      "P(grass) = 0.8081350729086723\n"
     ]
    }
   ],
   "source": [
    "bgfg = train_samples_fg.shape[0] + train_samples_bg.shape[0]\n",
    "p_cheetah = train_samples_fg.shape[0] / bgfg\n",
    "p_grass = train_samples_bg.shape[0] / bgfg\n",
    "print('P(cheetah) = {}'.format(p_cheetah))\n",
    "print('P(grass) = {}'.format(p_grass))"
   ]
  }
 ],
 "metadata": {
  "kernelspec": {
   "display_name": "Python 3",
   "language": "python",
   "name": "python3"
  },
  "language_info": {
   "codemirror_mode": {
    "name": "ipython",
    "version": 3
   },
   "file_extension": ".py",
   "mimetype": "text/x-python",
   "name": "python",
   "nbconvert_exporter": "python",
   "pygments_lexer": "ipython3",
   "version": "3.7.4"
  }
 },
 "nbformat": 4,
 "nbformat_minor": 2
}
